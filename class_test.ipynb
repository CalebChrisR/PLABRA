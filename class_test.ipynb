{
 "cells": [
  {
   "cell_type": "code",
   "execution_count": null,
   "metadata": {},
   "outputs": [],
   "source": [
    "class ListMethods:\n",
    "    def __init__(self, lists):\n",
    "        self.lists = lists\n",
    "    \n",
    "    def reverse(self):\n",
    "        lists = self.lists\n",
    "        reverse = []\n",
    "        n = len(lists)        \n",
    "        for x in range(n-1,-1,-1):\n",
    "            reverse.append(lists[x]) \n",
    "        return reverse\n",
    "\n",
    "\n",
    "L = [1,2,3,4]\n",
    "L = ListMethods(L)\n",
    "\n",
    "print(L.reverse())"
   ]
  },
  {
   "cell_type": "code",
   "execution_count": 2,
   "metadata": {},
   "outputs": [
    {
     "name": "stdout",
     "output_type": "stream",
     "text": [
      "aboná\n",
      "\n",
      "abono\n",
      "\n",
      "abusá\n",
      "\n",
      "abatí\n",
      "\n",
      "abeha\n",
      "\n",
      "valid word\n"
     ]
    }
   ],
   "source": [
    "from imports import printc\n",
    "import time\n",
    "\n",
    "word = input()\n",
    "text = open(\"lista_di_sinku.txt\", \"r\", encoding=\"utf-8\")\n",
    "            \n",
    "for x in text:\n",
    "    print(x)\n",
    "    if x.strip() == word.strip():\n",
    "        text.close()\n",
    "        print(\"valid word\")\n",
    "        break\n",
    "else:\n",
    "    text.close()\n",
    "    print(\"Not valid word\")\n",
    "    time.sleep(2)"
   ]
  },
  {
   "cell_type": "code",
   "execution_count": 30,
   "metadata": {},
   "outputs": [
    {
     "name": "stdout",
     "output_type": "stream",
     "text": [
      "{'a': 2, 'b': 1, 'e': 1, 'h': 1}\n",
      "\u001b[1;32;40ma\u001b[1;33;40ma\u001b[0;37;40mr\u001b[0;37;40ma\u001b[0;37;40mi\u001b[0;37;40m\n"
     ]
    }
   ],
   "source": [
    "YL = \"\\033[1;33;40m\"\n",
    "GR = \"\\033[1;32;40m\"\n",
    "WH = \"\\033[0;37;40m\"\n",
    "\n",
    "def let_counter(word):\n",
    "    let_count = {}\n",
    "    for l in word:\n",
    "        if l in let_count:\n",
    "            let_count[l] += 1\n",
    "        elif l not in let_count:\n",
    "            let_count[l] = 1\n",
    "    return let_count\n",
    "\n",
    "answer = \"abeha\"\n",
    "guess = \"aarai\"\n",
    "a_count = let_counter(answer)\n",
    "color = {}\n",
    "print(a_count)\n",
    "\n",
    "for x in range(5):\n",
    "    if guess[x] not in answer:\n",
    "        color[x] = WH\n",
    "        continue\n",
    "    elif guess[x] == answer[x]:\n",
    "        color[x] = GR\n",
    "        a_count[guess[x]] -= 1\n",
    "        continue\n",
    "    elif guess[x] != answer[x] and guess[x] in answer:\n",
    "        if a_count[guess[x]] > 0:\n",
    "            color[x] = YL\n",
    "            a_count[guess[x]] -= 1\n",
    "        else:\n",
    "            color[x] = WH\n",
    "        continue\n",
    "    \n",
    "    \n",
    "    \n",
    "\n",
    "for i in range(5):\n",
    "    print(color[i] + f\"{guess[i]}\", end=\"\")\n",
    "print(WH)\n",
    "\n",
    "\n",
    "        \n"
   ]
  },
  {
   "cell_type": "code",
   "execution_count": 4,
   "metadata": {},
   "outputs": [
    {
     "name": "stdout",
     "output_type": "stream",
     "text": [
      "Alphanumeric key pressed: Key.esc \n",
      "Key released: Key.esc\n",
      "Alphanumeric key pressed: Key.space \n",
      "Key released: Key.space\n",
      "Alphanumeric key pressed: 'p' \n",
      "Key released: 'p'\n",
      "Alphanumeric key pressed: '\\\\' \n",
      "Key released: '\\\\'\n",
      "Alphanumeric key pressed: Key.backspace \n",
      "Key released: Key.backspace\n"
     ]
    }
   ],
   "source": [
    "#import keyboard\n",
    "#from pynput import keyboard\n",
    "\n",
    "\n",
    "def main():\n",
    "    print(\"  /====\")\n",
    "    print(\" /    O\")\n",
    "    print(\" ||  /|\\ \")\n",
    "    print(\" ||   |\")\n",
    "    print(\" ||  / \\ \")\n",
    "    print(\"/||\")\n",
    "\n",
    "\n",
    "def key():\n",
    "    from pynput import keyboard\n",
    "\n",
    "    def on_press(key):\n",
    "        try:\n",
    "            print('Alphanumeric key pressed: {0} '.format(\n",
    "                key.char))\n",
    "        except AttributeError:\n",
    "            print('special key pressed: {0}'.format(\n",
    "                key))\n",
    "\n",
    "    def on_release(key):\n",
    "        print('Key released: {0}'.format(\n",
    "            key))\n",
    "        if key == keyboard.Key.backspace:\n",
    "            # Stop listener\n",
    "            return False\n",
    "\n",
    "    # Collect events until released\n",
    "    with keyboard.Listener(\n",
    "            on_press=on_press,\n",
    "            on_release=on_release) as listener:\n",
    "        listener.join()\n",
    "\n",
    "\n",
    "if __name__ == \"__main__\":\n",
    "    #main()\n",
    "    key()\n"
   ]
  },
  {
   "cell_type": "code",
   "execution_count": 5,
   "metadata": {},
   "outputs": [
    {
     "name": "stdout",
     "output_type": "stream",
     "text": [
      "ppdlaakkk"
     ]
    }
   ],
   "source": [
    "from pynput import keyboard\n",
    "\n",
    "def on_press(key):\n",
    "    try:\n",
    "        print('{0}'.format(key.char), end=\"\")\n",
    "    except AttributeError:\n",
    "        pass\n",
    "\n",
    "def on_release(key):\n",
    "    if key == keyboard.Key.esc:\n",
    "        # Stop listener\n",
    "        return False\n",
    "\n",
    "# Collect events until released\n",
    "with keyboard.Listener(\n",
    "        on_press=on_press,\n",
    "        on_release=on_release) as listener:\n",
    "    listener.join()"
   ]
  }
 ],
 "metadata": {
  "interpreter": {
   "hash": "209ddd9b403c57e5c24e49c65219a9ce9fe745efdf85559468127741a95325c2"
  },
  "kernelspec": {
   "display_name": "Python 3.10.1 64-bit",
   "language": "python",
   "name": "python3"
  },
  "language_info": {
   "codemirror_mode": {
    "name": "ipython",
    "version": 3
   },
   "file_extension": ".py",
   "mimetype": "text/x-python",
   "name": "python",
   "nbconvert_exporter": "python",
   "pygments_lexer": "ipython3",
   "version": "3.10.1"
  },
  "orig_nbformat": 4
 },
 "nbformat": 4,
 "nbformat_minor": 2
}
