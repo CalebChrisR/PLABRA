{
 "cells": [
  {
   "cell_type": "code",
   "execution_count": null,
   "metadata": {},
   "outputs": [],
   "source": [
    "class ListMethods:\n",
    "    def __init__(self, lists):\n",
    "        self.lists = lists\n",
    "    \n",
    "    def reverse(self):\n",
    "        lists = self.lists\n",
    "        reverse = []\n",
    "        n = len(lists)        \n",
    "        for x in range(n-1,-1,-1):\n",
    "            reverse.append(lists[x]) \n",
    "        return reverse\n",
    "\n",
    "\n",
    "L = [1,2,3,4]\n",
    "L = ListMethods(L)\n",
    "\n",
    "print(L.reverse())"
   ]
  }
 ],
 "metadata": {
  "language_info": {
   "name": "python"
  },
  "orig_nbformat": 4
 },
 "nbformat": 4,
 "nbformat_minor": 2
}
