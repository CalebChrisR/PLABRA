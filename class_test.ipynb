{
 "cells": [
  {
   "cell_type": "code",
   "execution_count": null,
   "metadata": {},
   "outputs": [],
   "source": [
    "class ListMethods:\n",
    "    def __init__(self, lists):\n",
    "        self.lists = lists\n",
    "    \n",
    "    def reverse(self):\n",
    "        lists = self.lists\n",
    "        reverse = []\n",
    "        n = len(lists)        \n",
    "        for x in range(n-1,-1,-1):\n",
    "            reverse.append(lists[x]) \n",
    "        return reverse\n",
    "\n",
    "\n",
    "L = [1,2,3,4]\n",
    "L = ListMethods(L)\n",
    "\n",
    "print(L.reverse())"
   ]
  },
  {
   "cell_type": "code",
   "execution_count": 4,
   "metadata": {},
   "outputs": [
    {
     "name": "stdout",
     "output_type": "stream",
     "text": [
      "aboná\n",
      "\n",
      "abono\n",
      "\n",
      "abusá\n",
      "\n",
      "abatí\n",
      "\n",
      "abeha\n",
      "\n",
      "valid word\n"
     ]
    }
   ],
   "source": [
    "from imports import printc\n",
    "import time\n",
    "\n",
    "word = input()\n",
    "text = open(\"lista_di_sinku.txt\", \"r\", encoding=\"utf-8\")\n",
    "            \n",
    "for x in text:\n",
    "    print(x)\n",
    "    if x.strip() == word.strip():\n",
    "        text.close()\n",
    "        print(\"valid word\")\n",
    "        break\n",
    "else:\n",
    "    text.close()\n",
    "    print(\"Not valid word\")\n",
    "    time.sleep(2)"
   ]
  }
 ],
 "metadata": {
  "interpreter": {
   "hash": "209ddd9b403c57e5c24e49c65219a9ce9fe745efdf85559468127741a95325c2"
  },
  "kernelspec": {
   "display_name": "Python 3.10.1 64-bit",
   "language": "python",
   "name": "python3"
  },
  "language_info": {
   "codemirror_mode": {
    "name": "ipython",
    "version": 3
   },
   "file_extension": ".py",
   "mimetype": "text/x-python",
   "name": "python",
   "nbconvert_exporter": "python",
   "pygments_lexer": "ipython3",
   "version": "3.10.1"
  },
  "orig_nbformat": 4
 },
 "nbformat": 4,
 "nbformat_minor": 2
}
